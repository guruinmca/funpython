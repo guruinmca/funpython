{
 "cells": [
  {
   "cell_type": "code",
   "execution_count": null,
   "id": "f1674b4b",
   "metadata": {},
   "outputs": [],
   "source": [
    "VARIABLES in Python\n",
    "====================\n",
    "Rules of Variale Declaration\n",
    "\n",
    "1) No Spaces should be present in the Name of Variable\n",
    "2) Variable name should not start with numbers (Ex : 1var, 2var - These are wrong)\n",
    "3) A Variable name should not contain special characters like (@$%&*)\n"
   ]
  },
  {
   "cell_type": "code",
   "execution_count": 13,
   "id": "66694294",
   "metadata": {},
   "outputs": [],
   "source": [
    "#Variables Examples\n",
    "x = 1\n",
    "y = 'Guru'"
   ]
  },
  {
   "cell_type": "code",
   "execution_count": 14,
   "id": "6294227b",
   "metadata": {},
   "outputs": [
    {
     "name": "stdout",
     "output_type": "stream",
     "text": [
      "1 Guru\n"
     ]
    }
   ],
   "source": [
    "print(x,y)"
   ]
  },
  {
   "cell_type": "code",
   "execution_count": 15,
   "id": "ef9cfa3b",
   "metadata": {},
   "outputs": [
    {
     "ename": "SyntaxError",
     "evalue": "invalid syntax (Temp/ipykernel_40368/2119028475.py, line 2)",
     "output_type": "error",
     "traceback": [
      "\u001b[1;36m  File \u001b[1;32m\"C:\\Users\\gbudh\\AppData\\Local\\Temp/ipykernel_40368/2119028475.py\"\u001b[1;36m, line \u001b[1;32m2\u001b[0m\n\u001b[1;33m    var name = 'something'\u001b[0m\n\u001b[1;37m        ^\u001b[0m\n\u001b[1;31mSyntaxError\u001b[0m\u001b[1;31m:\u001b[0m invalid syntax\n"
     ]
    }
   ],
   "source": [
    "#Incorrect Variable declaration\n",
    "var name = 'something'"
   ]
  },
  {
   "cell_type": "code",
   "execution_count": 16,
   "id": "d817f74e",
   "metadata": {},
   "outputs": [
    {
     "ename": "SyntaxError",
     "evalue": "invalid syntax (Temp/ipykernel_40368/4256868957.py, line 1)",
     "output_type": "error",
     "traceback": [
      "\u001b[1;36m  File \u001b[1;32m\"C:\\Users\\gbudh\\AppData\\Local\\Temp/ipykernel_40368/4256868957.py\"\u001b[1;36m, line \u001b[1;32m1\u001b[0m\n\u001b[1;33m    1var = 10\u001b[0m\n\u001b[1;37m     ^\u001b[0m\n\u001b[1;31mSyntaxError\u001b[0m\u001b[1;31m:\u001b[0m invalid syntax\n"
     ]
    }
   ],
   "source": [
    "1var = 10"
   ]
  },
  {
   "cell_type": "code",
   "execution_count": 17,
   "id": "7c6d462e",
   "metadata": {},
   "outputs": [
    {
     "ename": "SyntaxError",
     "evalue": "cannot assign to operator (Temp/ipykernel_40368/471181625.py, line 1)",
     "output_type": "error",
     "traceback": [
      "\u001b[1;36m  File \u001b[1;32m\"C:\\Users\\gbudh\\AppData\\Local\\Temp/ipykernel_40368/471181625.py\"\u001b[1;36m, line \u001b[1;32m1\u001b[0m\n\u001b[1;33m    var%name = 'wrong'\u001b[0m\n\u001b[1;37m    ^\u001b[0m\n\u001b[1;31mSyntaxError\u001b[0m\u001b[1;31m:\u001b[0m cannot assign to operator\n"
     ]
    }
   ],
   "source": [
    "var%name = 'wrong'"
   ]
  },
  {
   "cell_type": "code",
   "execution_count": 18,
   "id": "08583cab",
   "metadata": {},
   "outputs": [],
   "source": [
    "##All the Above ones are wrong variable declarations."
   ]
  },
  {
   "cell_type": "markdown",
   "id": "1828692e",
   "metadata": {},
   "source": [
    "STRING Data Type\n",
    "\n",
    "We can declare strings 3 Ways\n",
    ">Single ''\n",
    ">Double \"\"\n",
    ">Triple Quotes \"\"\" \"\"\"\n",
    "\n",
    "String Is classified as Immutable Data type."
   ]
  },
  {
   "cell_type": "code",
   "execution_count": 7,
   "id": "1dc30b0b",
   "metadata": {},
   "outputs": [],
   "source": [
    "#Declaring String with triple Quotes\n",
    "name = \"\"\"Guru\"\"\""
   ]
  },
  {
   "cell_type": "code",
   "execution_count": 8,
   "id": "668c7863",
   "metadata": {},
   "outputs": [
    {
     "name": "stdout",
     "output_type": "stream",
     "text": [
      "Guru\n"
     ]
    }
   ],
   "source": [
    "print(name)"
   ]
  },
  {
   "cell_type": "code",
   "execution_count": 9,
   "id": "48606fdc",
   "metadata": {},
   "outputs": [],
   "source": [
    "#Declaring String with Single Quotes\n",
    "name1 = 'Guru'"
   ]
  },
  {
   "cell_type": "code",
   "execution_count": 4,
   "id": "7bb116d3",
   "metadata": {},
   "outputs": [
    {
     "name": "stdout",
     "output_type": "stream",
     "text": [
      "Guru\n"
     ]
    }
   ],
   "source": [
    "print(name1)"
   ]
  },
  {
   "cell_type": "code",
   "execution_count": 11,
   "id": "ba24f887",
   "metadata": {},
   "outputs": [],
   "source": [
    "#Declaring String with Double Quotes\n",
    "name2 = \"Guru\""
   ]
  },
  {
   "cell_type": "code",
   "execution_count": 6,
   "id": "271dcb60",
   "metadata": {},
   "outputs": [
    {
     "name": "stdout",
     "output_type": "stream",
     "text": [
      "Guru\n"
     ]
    }
   ],
   "source": [
    "print(name2)"
   ]
  },
  {
   "cell_type": "code",
   "execution_count": null,
   "id": "057a43bc",
   "metadata": {},
   "outputs": [],
   "source": []
  }
 ],
 "metadata": {
  "kernelspec": {
   "display_name": "Python 3 (ipykernel)",
   "language": "python",
   "name": "python3"
  },
  "language_info": {
   "codemirror_mode": {
    "name": "ipython",
    "version": 3
   },
   "file_extension": ".py",
   "mimetype": "text/x-python",
   "name": "python",
   "nbconvert_exporter": "python",
   "pygments_lexer": "ipython3",
   "version": "3.9.7"
  }
 },
 "nbformat": 4,
 "nbformat_minor": 5
}
